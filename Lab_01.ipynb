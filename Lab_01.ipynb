{
 "cells": [
  {
   "cell_type": "markdown",
   "id": "6fb672c9",
   "metadata": {},
   "source": [
    "#                                                              Lab_01\n",
    "#                        Muhammad Bilal                                CMS = 033-18-0040"
   ]
  },
  {
   "cell_type": "code",
   "execution_count": 1,
   "id": "c9ca8344",
   "metadata": {},
   "outputs": [
    {
     "name": "stdout",
     "output_type": "stream",
     "text": [
      "Hello World\n"
     ]
    }
   ],
   "source": [
    "print('Hello World')"
   ]
  },
  {
   "cell_type": "code",
   "execution_count": 2,
   "id": "89b2f05e",
   "metadata": {},
   "outputs": [
    {
     "data": {
      "text/plain": [
       "int"
      ]
     },
     "execution_count": 2,
     "metadata": {},
     "output_type": "execute_result"
    }
   ],
   "source": [
    "number = 10\n",
    "type(number)"
   ]
  },
  {
   "cell_type": "code",
   "execution_count": 3,
   "id": "0e505202",
   "metadata": {},
   "outputs": [
    {
     "data": {
      "text/plain": [
       "float"
      ]
     },
     "execution_count": 3,
     "metadata": {},
     "output_type": "execute_result"
    }
   ],
   "source": [
    "number = 10.5\n",
    "type(number)"
   ]
  },
  {
   "cell_type": "code",
   "execution_count": 4,
   "id": "f0ccd8f1",
   "metadata": {},
   "outputs": [
    {
     "data": {
      "text/plain": [
       "str"
      ]
     },
     "execution_count": 4,
     "metadata": {},
     "output_type": "execute_result"
    }
   ],
   "source": [
    "text = 'Hi Genius'\n",
    "type(text)"
   ]
  },
  {
   "cell_type": "code",
   "execution_count": 5,
   "id": "d6741ed6",
   "metadata": {},
   "outputs": [
    {
     "data": {
      "text/plain": [
       "list"
      ]
     },
     "execution_count": 5,
     "metadata": {},
     "output_type": "execute_result"
    }
   ],
   "source": [
    "my_Friends = ['murtaza','sajjad','abrar']\n",
    "type(my_Friends)"
   ]
  },
  {
   "cell_type": "code",
   "execution_count": 6,
   "id": "6b9b5fde",
   "metadata": {},
   "outputs": [
    {
     "data": {
      "text/plain": [
       "'murtaza'"
      ]
     },
     "execution_count": 6,
     "metadata": {},
     "output_type": "execute_result"
    }
   ],
   "source": [
    "my_Friends = ['murtaza','sajjad','abrar']\n",
    "my_Friends[0]"
   ]
  },
  {
   "cell_type": "code",
   "execution_count": 7,
   "id": "6c746a85",
   "metadata": {},
   "outputs": [
    {
     "data": {
      "text/plain": [
       "['murtaza', 'sajjad', 'abrar']"
      ]
     },
     "execution_count": 7,
     "metadata": {},
     "output_type": "execute_result"
    }
   ],
   "source": [
    "my_Friends = ['murtaza','sajjad','abrar','gulab','jabbar']\n",
    "my_Friends[0:3]"
   ]
  },
  {
   "cell_type": "code",
   "execution_count": 8,
   "id": "cfe2e649",
   "metadata": {},
   "outputs": [
    {
     "data": {
      "text/plain": [
       "['murtaza', 'sajjad', 'abrar', 'gulab']"
      ]
     },
     "execution_count": 8,
     "metadata": {},
     "output_type": "execute_result"
    }
   ],
   "source": [
    "my_Friends = ['murtaza','sajjad','abrar','gulab','jabbar']\n",
    "my_Friends[:4]"
   ]
  },
  {
   "cell_type": "code",
   "execution_count": 9,
   "id": "734db9f6",
   "metadata": {},
   "outputs": [
    {
     "data": {
      "text/plain": [
       "['jabbar']"
      ]
     },
     "execution_count": 9,
     "metadata": {},
     "output_type": "execute_result"
    }
   ],
   "source": [
    "my_Friends = ['murtaza','sajjad','abrar','gulab','jabbar']\n",
    "my_Friends[4:]"
   ]
  },
  {
   "cell_type": "code",
   "execution_count": 10,
   "id": "e36df3f7",
   "metadata": {},
   "outputs": [
    {
     "data": {
      "text/plain": [
       "(2, 4)"
      ]
     },
     "execution_count": 10,
     "metadata": {},
     "output_type": "execute_result"
    }
   ],
   "source": [
    "my_Friends = ['murtaza','sajjad','abrar','gulab','jabbar']\n",
    "my_Friends.index('abrar'),my_Friends.index('jabbar')"
   ]
  },
  {
   "cell_type": "code",
   "execution_count": 11,
   "id": "75ce3d75",
   "metadata": {},
   "outputs": [
    {
     "data": {
      "text/plain": [
       "(list, 4)"
      ]
     },
     "execution_count": 11,
     "metadata": {},
     "output_type": "execute_result"
    }
   ],
   "source": [
    "mixedList = ['abrar','bilal',12.5,4]\n",
    "type(mixedList),mixedList[-1]"
   ]
  },
  {
   "cell_type": "code",
   "execution_count": 12,
   "id": "b74a2e54",
   "metadata": {},
   "outputs": [
    {
     "data": {
      "text/plain": [
       "int"
      ]
     },
     "execution_count": 12,
     "metadata": {},
     "output_type": "execute_result"
    }
   ],
   "source": [
    "mixedList = ['abrar','bilal',12.5,4]\n",
    "type(mixedList[-1])"
   ]
  },
  {
   "cell_type": "code",
   "execution_count": 13,
   "id": "01a212eb",
   "metadata": {},
   "outputs": [
    {
     "data": {
      "text/plain": [
       "[1, 2, 3, 4, 5, 6, 7, 8, 9, 10]"
      ]
     },
     "execution_count": 13,
     "metadata": {},
     "output_type": "execute_result"
    }
   ],
   "source": [
    "listOne = [1,2,3,4,5]\n",
    "listTwo = [6,7,8,9,10]\n",
    "NewList = listOne+listTwo\n",
    "NewList"
   ]
  },
  {
   "cell_type": "code",
   "execution_count": 14,
   "id": "1b96dd5c",
   "metadata": {},
   "outputs": [
    {
     "data": {
      "text/plain": [
       "[[1, 2, 3, 4, 5], [6, 7, 8]]"
      ]
     },
     "execution_count": 14,
     "metadata": {},
     "output_type": "execute_result"
    }
   ],
   "source": [
    "list = []\n",
    "listOne = [1,2,3,4,5]\n",
    "listTwo = [6,7,8]\n",
    "list.append(listOne)\n",
    "list.append(listTwo)\n",
    "list"
   ]
  },
  {
   "cell_type": "code",
   "execution_count": 15,
   "id": "bd11f721",
   "metadata": {},
   "outputs": [
    {
     "data": {
      "text/plain": [
       "['murtaza', 'sajjad', 'abrar', 'gulab', 'jabbar', 'mansoor']"
      ]
     },
     "execution_count": 15,
     "metadata": {},
     "output_type": "execute_result"
    }
   ],
   "source": [
    "my_Friends = ['murtaza','sajjad','abrar','gulab','jabbar']\n",
    "my_Friends.append('mansoor')\n",
    "my_Friends"
   ]
  },
  {
   "cell_type": "code",
   "execution_count": 16,
   "id": "de92986c",
   "metadata": {},
   "outputs": [
    {
     "data": {
      "text/plain": [
       "[1, 2, 3, 2, 6, 8]"
      ]
     },
     "execution_count": 16,
     "metadata": {},
     "output_type": "execute_result"
    }
   ],
   "source": [
    "l1 = [1,2,3]\n",
    "l2 = [2,6,8]\n",
    "l1.extend(l2)\n",
    "l1"
   ]
  },
  {
   "cell_type": "code",
   "execution_count": 17,
   "id": "0faeba54",
   "metadata": {},
   "outputs": [
    {
     "data": {
      "text/plain": [
       "['abrar', 'gulab', 'jabbar', 'murtaza', 'sajjad']"
      ]
     },
     "execution_count": 17,
     "metadata": {},
     "output_type": "execute_result"
    }
   ],
   "source": [
    "my_Friends = ['murtaza','sajjad','abrar','gulab','jabbar']\n",
    "my_Friends.sort()\n",
    "my_Friends"
   ]
  },
  {
   "cell_type": "code",
   "execution_count": 18,
   "id": "b1d94eb1",
   "metadata": {},
   "outputs": [
    {
     "data": {
      "text/plain": [
       "2"
      ]
     },
     "execution_count": 18,
     "metadata": {},
     "output_type": "execute_result"
    }
   ],
   "source": [
    "number = [1,2,3,4,5,7,8,5,9,0]\n",
    "number.count(5)"
   ]
  },
  {
   "cell_type": "code",
   "execution_count": 19,
   "id": "dbfad189",
   "metadata": {},
   "outputs": [
    {
     "data": {
      "text/plain": [
       "tuple"
      ]
     },
     "execution_count": 19,
     "metadata": {},
     "output_type": "execute_result"
    }
   ],
   "source": [
    "my_Friends = ('murtaza','sajjad','abrar','gulab','jabbar')\n",
    "type(my_Friends)"
   ]
  },
  {
   "cell_type": "code",
   "execution_count": 20,
   "id": "3bf60218",
   "metadata": {},
   "outputs": [
    {
     "data": {
      "text/plain": [
       "set"
      ]
     },
     "execution_count": 20,
     "metadata": {},
     "output_type": "execute_result"
    }
   ],
   "source": [
    "my_Friends = {'murtaza','sajjad','abrar','gulab','jabbar'}\n",
    "type(my_Friends)"
   ]
  },
  {
   "cell_type": "code",
   "execution_count": 21,
   "id": "2cdb6318",
   "metadata": {},
   "outputs": [
    {
     "data": {
      "text/plain": [
       "['ali jamali', 'sajjad', 'abrar', 'gulab', 'jabbar']"
      ]
     },
     "execution_count": 21,
     "metadata": {},
     "output_type": "execute_result"
    }
   ],
   "source": [
    "my_Friends = ['murtaza','sajjad','abrar','gulab','jabbar']\n",
    "my_Friends[0] = 'ali jamali'\n",
    "my_Friends"
   ]
  },
  {
   "cell_type": "code",
   "execution_count": 22,
   "id": "7d16d306",
   "metadata": {},
   "outputs": [
    {
     "ename": "TypeError",
     "evalue": "'tuple' object does not support item assignment",
     "output_type": "error",
     "traceback": [
      "\u001b[1;31m---------------------------------------------------------------------------\u001b[0m",
      "\u001b[1;31mTypeError\u001b[0m                                 Traceback (most recent call last)",
      "\u001b[1;32m~\\AppData\\Local\\Temp/ipykernel_2108/2827351864.py\u001b[0m in \u001b[0;36m<module>\u001b[1;34m\u001b[0m\n\u001b[0;32m      1\u001b[0m \u001b[0mmy_Friends\u001b[0m \u001b[1;33m=\u001b[0m \u001b[1;33m(\u001b[0m\u001b[1;34m'murtaza'\u001b[0m\u001b[1;33m,\u001b[0m\u001b[1;34m'sajjad'\u001b[0m\u001b[1;33m,\u001b[0m\u001b[1;34m'abrar'\u001b[0m\u001b[1;33m,\u001b[0m\u001b[1;34m'gulab'\u001b[0m\u001b[1;33m,\u001b[0m\u001b[1;34m'jabbar'\u001b[0m\u001b[1;33m)\u001b[0m\u001b[1;33m\u001b[0m\u001b[1;33m\u001b[0m\u001b[0m\n\u001b[1;32m----> 2\u001b[1;33m \u001b[0mmy_Friends\u001b[0m\u001b[1;33m[\u001b[0m\u001b[1;36m0\u001b[0m\u001b[1;33m]\u001b[0m \u001b[1;33m=\u001b[0m \u001b[1;34m'ali jamali'\u001b[0m\u001b[1;33m\u001b[0m\u001b[1;33m\u001b[0m\u001b[0m\n\u001b[0m\u001b[0;32m      3\u001b[0m \u001b[0mmy_Friends\u001b[0m\u001b[1;33m\u001b[0m\u001b[1;33m\u001b[0m\u001b[0m\n",
      "\u001b[1;31mTypeError\u001b[0m: 'tuple' object does not support item assignment"
     ]
    }
   ],
   "source": [
    "my_Friends = ('murtaza','sajjad','abrar','gulab','jabbar')\n",
    "my_Friends[0] = 'ali jamali'\n",
    "my_Friends"
   ]
  },
  {
   "cell_type": "code",
   "execution_count": 24,
   "id": "9a0483cb",
   "metadata": {},
   "outputs": [
    {
     "ename": "TypeError",
     "evalue": "'set' object is not subscriptable",
     "output_type": "error",
     "traceback": [
      "\u001b[1;31m---------------------------------------------------------------------------\u001b[0m",
      "\u001b[1;31mTypeError\u001b[0m                                 Traceback (most recent call last)",
      "\u001b[1;32m~\\AppData\\Local\\Temp/ipykernel_2108/3330517423.py\u001b[0m in \u001b[0;36m<module>\u001b[1;34m\u001b[0m\n\u001b[0;32m      1\u001b[0m \u001b[0mmy_Friends\u001b[0m \u001b[1;33m=\u001b[0m \u001b[1;33m{\u001b[0m\u001b[1;34m'murtaza'\u001b[0m\u001b[1;33m,\u001b[0m\u001b[1;34m'sajjad'\u001b[0m\u001b[1;33m,\u001b[0m\u001b[1;34m'abrar'\u001b[0m\u001b[1;33m,\u001b[0m\u001b[1;34m'gulab'\u001b[0m\u001b[1;33m,\u001b[0m\u001b[1;34m'jabbar'\u001b[0m\u001b[1;33m}\u001b[0m\u001b[1;33m\u001b[0m\u001b[1;33m\u001b[0m\u001b[0m\n\u001b[1;32m----> 2\u001b[1;33m \u001b[0mmy_Friends\u001b[0m\u001b[1;33m[\u001b[0m\u001b[1;36m0\u001b[0m\u001b[1;33m]\u001b[0m\u001b[1;33m\u001b[0m\u001b[1;33m\u001b[0m\u001b[0m\n\u001b[0m",
      "\u001b[1;31mTypeError\u001b[0m: 'set' object is not subscriptable"
     ]
    }
   ],
   "source": [
    "my_Friends = {'murtaza','sajjad','abrar','gulab','jabbar'}\n",
    "my_Friends[0]"
   ]
  },
  {
   "cell_type": "code",
   "execution_count": 25,
   "id": "4f56fe6c",
   "metadata": {},
   "outputs": [
    {
     "data": {
      "text/plain": [
       "5"
      ]
     },
     "execution_count": 25,
     "metadata": {},
     "output_type": "execute_result"
    }
   ],
   "source": [
    "my_Friends = ['murtaza','sajjad','abrar','gulab','jabbar']\n",
    "len(my_Friends)"
   ]
  },
  {
   "cell_type": "code",
   "execution_count": 26,
   "id": "a46be62e",
   "metadata": {},
   "outputs": [
    {
     "data": {
      "text/plain": [
       "(9, 0)"
      ]
     },
     "execution_count": 26,
     "metadata": {},
     "output_type": "execute_result"
    }
   ],
   "source": [
    "number = [1,2,3,4,5,7,8,5,9,0]\n",
    "max(number),min(number)"
   ]
  },
  {
   "cell_type": "code",
   "execution_count": 27,
   "id": "389a8007",
   "metadata": {},
   "outputs": [
    {
     "data": {
      "text/plain": [
       "44"
      ]
     },
     "execution_count": 27,
     "metadata": {},
     "output_type": "execute_result"
    }
   ],
   "source": [
    "number = [1,2,3,4,5,7,8,5,9,0]\n",
    "sum(number)"
   ]
  },
  {
   "cell_type": "code",
   "execution_count": 31,
   "id": "9a8979a7",
   "metadata": {},
   "outputs": [
    {
     "data": {
      "text/plain": [
       "[1, 2, 3, 4, 5, 7, 8, 5, 9, 0]"
      ]
     },
     "execution_count": 31,
     "metadata": {},
     "output_type": "execute_result"
    }
   ],
   "source": [
    "number = [1,2,3,4,5,7,8,5,9,0]\n",
    "del list\n",
    "list(number)"
   ]
  },
  {
   "cell_type": "code",
   "execution_count": 33,
   "id": "4d9ae27c",
   "metadata": {},
   "outputs": [
    {
     "name": "stdout",
     "output_type": "stream",
     "text": [
      "0  is number row\n",
      "1  is number row\n",
      "2  is number row\n",
      "3  is number row\n",
      "4  is number row\n",
      "5  is number row\n",
      "6  is number row\n",
      "7  is number row\n",
      "8  is number row\n",
      "9  is number row\n",
      "Number in for loop=  10 number not in for loop=  1\n"
     ]
    }
   ],
   "source": [
    "f = 0\n",
    "nf = 0\n",
    "for k in range(10):\n",
    "    print(k,' is number row')\n",
    "    f = f +1\n",
    "nf = nf + 1\n",
    "print('Number in for loop= ',f,'number not in for loop= ',nf)"
   ]
  },
  {
   "cell_type": "code",
   "execution_count": 34,
   "id": "aec6c70c",
   "metadata": {},
   "outputs": [
    {
     "name": "stdout",
     "output_type": "stream",
     "text": [
      "3  The limit number has not come yet\n",
      "6  The limit number has not come yet\n",
      "9  The limit number has not come yet\n",
      "12  The limit number has not come yet\n",
      "15  The limit number has not come yet\n",
      "18  The limit number has not come yet\n",
      "21  The limit number has not come yet\n",
      "24  The limit number has not come yet\n",
      "27  The limit number has not come yet\n",
      "30  The limit number has not come yet\n",
      "33  The limit number has not come yet\n",
      "36  The limit number has not come yet\n",
      "The limit number  has come\n"
     ]
    },
    {
     "data": {
      "text/plain": [
       "39"
      ]
     },
     "execution_count": 34,
     "metadata": {},
     "output_type": "execute_result"
    }
   ],
   "source": [
    "k = 0 \n",
    "while True:\n",
    "    k = k+3\n",
    "    if k> 36:\n",
    "        print('The limit number  has come')\n",
    "        break\n",
    "    else:\n",
    "        print(k,' The limit number has not come yet')\n",
    "        \n",
    "k"
   ]
  },
  {
   "cell_type": "code",
   "execution_count": 35,
   "id": "ea4f0c75",
   "metadata": {},
   "outputs": [
    {
     "name": "stdout",
     "output_type": "stream",
     "text": [
      "Your BMI is =  19.436735138888892\n"
     ]
    }
   ],
   "source": [
    "def BMI(height,Weight):\n",
    "    height_m = height/3.281\n",
    "    print('Your BMI is = ', Weight/height_m**2)\n",
    "BMI(6,65)"
   ]
  },
  {
   "cell_type": "markdown",
   "id": "cd2adc12",
   "metadata": {},
   "source": [
    "# Exercise Task 1"
   ]
  },
  {
   "cell_type": "markdown",
   "id": "d0cadc20",
   "metadata": {},
   "source": [
    "Define “names” and “height” lists that contain name and height of your friends respectively. Find \n",
    "the total number of entries in list, maximum height, and minimum height with their names and \n",
    "find the average height of your friends."
   ]
  },
  {
   "cell_type": "code",
   "execution_count": 36,
   "id": "223929ba",
   "metadata": {},
   "outputs": [
    {
     "name": "stdout",
     "output_type": "stream",
     "text": [
      "Number of entries in both lists  5 5\n",
      "Maximum height and Minumumm height is given respectively from list  6 5.5\n",
      "Friend with max height  6 is sajjad\n",
      "Friend with min height  5.5 is abrar\n",
      "The average height is =  5.68\n"
     ]
    }
   ],
   "source": [
    "names = ['sajjad','abrar','mansoor','manoj','usama']\n",
    "height = [6,5.5,5.7,5.6,5.6]\n",
    "print('Number of entries in both lists ',len(names),len(height))\n",
    "print('Maximum height and Minumumm height is given respectively from list ',max(height),min(height))\n",
    "\n",
    "for x in height:\n",
    "    if x == max(height):\n",
    "        print('Friend with max height ',x , 'is', names[height.index(x)])\n",
    "    elif x == min(height):\n",
    "        print('Friend with min height ',x , 'is', names[height.index(x)])\n",
    "\n",
    "average = sum(height)/len(height)\n",
    "print('The average height is = ', average)"
   ]
  },
  {
   "cell_type": "markdown",
   "id": "fd421288",
   "metadata": {},
   "source": [
    "# Exercise Task 2"
   ]
  },
  {
   "cell_type": "markdown",
   "id": "a195c0c1",
   "metadata": {},
   "source": [
    "Develop a BMI function in python programming language that gets the weight and height as \n",
    "inputs and show that whether input user is underweight, normal weight, overweight or obese."
   ]
  },
  {
   "cell_type": "code",
   "execution_count": 7,
   "id": "67c6498f",
   "metadata": {},
   "outputs": [
    {
     "name": "stdout",
     "output_type": "stream",
     "text": [
      "Enter Height in feet\n",
      "6\n",
      "Enter Weight in KG\n",
      "65\n",
      "Your BMI is =  19.436735138888892\n",
      "Normal Weight\n"
     ]
    }
   ],
   "source": [
    "def BMI(height,Weight):\n",
    "    height_m = height/3.281\n",
    "    BMI = Weight/height_m**2\n",
    "    print('Your BMI is = ', BMI)\n",
    "    if(BMI < 18.5):\n",
    "        print('Underweight')\n",
    "    elif(18.5 < BMI < 24.9 ):\n",
    "        print('Normal Weight')\n",
    "    else:\n",
    "        print('OverWeight')\n",
    "        \n",
    "    \n",
    "print('Enter Height in feet')    \n",
    "height1 = input()\n",
    "print('Enter Weight in KG')\n",
    "Weight1 = input()\n",
    "\n",
    "height12 = int(height1)\n",
    "Weight12 = int(Weight1)\n",
    "BMI(height12,Weight12)"
   ]
  },
  {
   "cell_type": "markdown",
   "id": "633b66f0",
   "metadata": {},
   "source": [
    "# Exercise Task 3"
   ]
  },
  {
   "cell_type": "markdown",
   "id": "e6b6662b",
   "metadata": {},
   "source": [
    "Write a function that takes input a number, which is temperature in degree Celsius and return the \n",
    "temperature in kelvin and Fahrenheit."
   ]
  },
  {
   "cell_type": "code",
   "execution_count": 5,
   "id": "45c2cb76",
   "metadata": {},
   "outputs": [
    {
     "name": "stdout",
     "output_type": "stream",
     "text": [
      "Enter Value in celsius = \n",
      "100\n",
      "Temperature in Kalvin =  373.15\n",
      "Temperature in Farenhite =  212.0\n"
     ]
    }
   ],
   "source": [
    "def Temp(cal):\n",
    "    k = cal + 273.15\n",
    "    fa = cal*1.8 + 32\n",
    "    print('Temperature in Kalvin = ', k)\n",
    "    print('Temperature in Farenhite = ', fa)\n",
    "print('Enter Value in celsius = ') \n",
    "cal1 = input()\n",
    "cal12 = int(cal1)\n",
    "\n",
    "Temp(cal12)"
   ]
  },
  {
   "cell_type": "markdown",
   "id": "21149737",
   "metadata": {},
   "source": [
    "# Exercise Task 4"
   ]
  },
  {
   "cell_type": "markdown",
   "id": "3226ae72",
   "metadata": {},
   "source": [
    "Create a list of even numbers and odd numbers with the help of for loop and append function. \n",
    "Than combine both lists together."
   ]
  },
  {
   "cell_type": "code",
   "execution_count": 1,
   "id": "ba8704da",
   "metadata": {},
   "outputs": [
    {
     "name": "stdout",
     "output_type": "stream",
     "text": [
      "List 1 has even elements =  [0, 2, 4, 6, 8]\n",
      "List 2 has Odd elements =  [1, 3, 5, 7, 9]\n",
      "Final List will be =  [0, 2, 4, 6, 8, 1, 3, 5, 7, 9]\n"
     ]
    }
   ],
   "source": [
    "list1 = []\n",
    "list2 = []\n",
    "finalList = []\n",
    "for x in range(10):\n",
    "    if x%2 == 0:\n",
    "        list1.append(x)\n",
    "    elif x%2 != 0:\n",
    "        list2.append(x)\n",
    "print('List 1 has even elements = ',list1)\n",
    "print('List 2 has Odd elements = ', list2)\n",
    "finalList = list1 + list2\n",
    "print('Final List will be = ', finalList)"
   ]
  }
 ],
 "metadata": {
  "kernelspec": {
   "display_name": "Python 3 (ipykernel)",
   "language": "python",
   "name": "python3"
  },
  "language_info": {
   "codemirror_mode": {
    "name": "ipython",
    "version": 3
   },
   "file_extension": ".py",
   "mimetype": "text/x-python",
   "name": "python",
   "nbconvert_exporter": "python",
   "pygments_lexer": "ipython3",
   "version": "3.9.7"
  }
 },
 "nbformat": 4,
 "nbformat_minor": 5
}
